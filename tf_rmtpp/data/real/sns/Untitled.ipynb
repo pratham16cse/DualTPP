{
 "cells": [
  {
   "cell_type": "code",
   "execution_count": 9,
   "metadata": {
    "collapsed": false
   },
   "outputs": [
    {
     "name": "stdout",
     "output_type": "stream",
     "text": [
      "3000 3000\n"
     ]
    }
   ],
   "source": [
    "id_idx_map = {}\n",
    "event_seq = []\n",
    "\n",
    "def save_links(filename):\n",
    "    fid = open('links.txt', 'w')\n",
    "    \n",
    "    with open(filename, 'r') as f:\n",
    "        for line in f:\n",
    "            line = line.strip().split(' ')\n",
    "            if (len(line) != 3):\n",
    "                continue\n",
    "            id1 = int(line[0])\n",
    "            id2 = int(line[1])\n",
    "            if not (id1 in id_idx_map):\n",
    "                id_idx_map[id1] = len(event_seq)\n",
    "                event_seq.append([])\n",
    "            if not (id2 in id_idx_map):\n",
    "                id_idx_map[id2] = len(event_seq)\n",
    "                event_seq.append([])\n",
    "            \n",
    "            mapped_id1 = id_idx_map[id1]\n",
    "            mapped_id2 = id_idx_map[id2]\n",
    "            fid.write('%d %d %s\\n' % (mapped_id1, mapped_id2, line[2]))\n",
    "            \n",
    "    fid.close()\n",
    "            \n",
    "\n",
    "def load_events(etype):\n",
    "    filename = 'N3000/P%d-URL-Events.txt' % etype\n",
    "    fid = open(filename, 'r')\n",
    "    lines = fid.readlines()\n",
    "    assert len(lines) % 3 == 0\n",
    "    for i in range(len(lines) / 3):\n",
    "        user = int(lines[i * 3 + 1].strip())\n",
    "        if not (user in id_idx_map):\n",
    "            id_idx_map[user] = len(event_seq)\n",
    "            event_seq.append([])\n",
    "        mapped_uid = id_idx_map[user]\n",
    "        stamps = lines[i * 3 + 2].strip().split(' ')\n",
    "        for t in stamps:\n",
    "            t = t.strip()\n",
    "            if len(t) == 0:\n",
    "                continue\n",
    "            event_seq[mapped_uid].append((etype, int(t.strip())))\n",
    "    fid.close()\n",
    "\n",
    "save_links('N3000/Links.txt')\n",
    "\n",
    "load_events(0)\n",
    "load_events(1)\n",
    "\n",
    "print len(event_seq), len(id_idx_map)\n",
    "f_time = open('time.txt', 'w')\n",
    "f_event = open('event.txt', 'w')\n",
    "for i in range(len(event_seq)):\n",
    "    event_seq[i].sort(key=lambda tup: tup[1])\n",
    "    for j in range(len(event_seq[i])):\n",
    "        tup = event_seq[i][j]\n",
    "        f_time.write('%d ' % tup[1])\n",
    "        f_event.write('%d ' % tup[0])\n",
    "    f_time.write('\\n')\n",
    "    f_event.write('\\n')\n",
    "    \n",
    "f_time.close()\n",
    "f_event.close()"
   ]
  }
 ],
 "metadata": {
  "kernelspec": {
   "display_name": "Python 2",
   "language": "python",
   "name": "python2"
  },
  "language_info": {
   "codemirror_mode": {
    "name": "ipython",
    "version": 2
   },
   "file_extension": ".py",
   "mimetype": "text/x-python",
   "name": "python",
   "nbconvert_exporter": "python",
   "pygments_lexer": "ipython2",
   "version": "2.7.6"
  }
 },
 "nbformat": 4,
 "nbformat_minor": 0
}
